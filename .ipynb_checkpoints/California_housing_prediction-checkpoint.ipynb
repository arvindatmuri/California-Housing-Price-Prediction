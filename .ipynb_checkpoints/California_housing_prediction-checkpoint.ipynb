{
 "cells": [
  {
   "cell_type": "markdown",
   "id": "3760629b-0deb-4652-8e59-f71d0bd9dcdb",
   "metadata": {},
   "source": [
    "# California Housing Price Prediction : \n",
    "\n",
    "### Problem Statement :\n",
    "\n",
    "The US Census Bureau has published California Census Data which has 10 types of metrics such as the population, median income, median housing price, and so on for each block group in California. The dataset also serves as an input for project scoping and tries to specify the functional and nonfunctional requirements for it."
   ]
  },
  {
   "cell_type": "markdown",
   "id": "dcb5136d-13c9-4a65-8a2c-acffd91e2187",
   "metadata": {},
   "source": [
    "### Objective :\n",
    "\n",
    "The project aims at building a model of housing prices to predict median house values in California using the provided dataset. This model should learn from the data and be able to predict the median housing price in any district, given all the other metrics.\n",
    "\n",
    "Districts or block groups are the smallest geographical units for which the US Census Bureau\n",
    "publishes sample data (a block group typically has a population of 600 to 3,000 people). There are 20,640 districts in the project dataset."
   ]
  },
  {
   "cell_type": "markdown",
   "id": "09ef2952-0de2-4892-ae01-25c9dc485e57",
   "metadata": {},
   "source": [
    "### Domain: Finance and Housing\n",
    "\n",
    "#### Analysis Tasks to be performed:\n",
    "\n",
    "1. Build a model of housing prices to predict median house values in California using the provided dataset.\n",
    "\n",
    "2. Train the model to learn from the data to predict the median housing price in any district, given all the other metrics.\n",
    "\n",
    "3. Predict housing prices based on median_income and plot the regression chart for it.\n",
    "\n",
    "\n"
   ]
  },
  {
   "cell_type": "code",
   "execution_count": 22,
   "id": "fa1acc37-6e1c-477d-8985-c527d3ffe0ab",
   "metadata": {},
   "outputs": [],
   "source": [
    "import matplotlib.pyplot as plt\n",
    "import pandas as pd\n",
    "import numpy as np\n",
    "import matplotlib.pyplot as plt\n",
    "import seaborn as sns\n",
    "import statsmodels.formula.api as smf\n",
    "from sklearn.preprocessing import LabelEncoder,StandardScaler\n",
    "from sklearn.linear_model import LinearRegression\n",
    "from sklearn.metrics import mean_squared_error,r2_score\n",
    "\n",
    "\n",
    "%matplotlib inline"
   ]
  },
  {
   "cell_type": "markdown",
   "id": "f7db1004-c608-440e-9ba1-590d6b426ae7",
   "metadata": {},
   "source": [
    "##### 1. Load the data :\n",
    "\n",
    "Read the “housing.xslx” file from the folder into the program.\n",
    "Print first few rows of this data.\n",
    "Extract input (X) and output (Y) data from the dataset.\n",
    "\n"
   ]
  },
  {
   "cell_type": "code",
   "execution_count": 16,
   "id": "b6e815ad-1d5e-4f50-848a-4832c604ddb6",
   "metadata": {},
   "outputs": [
    {
     "data": {
      "text/html": [
       "<div>\n",
       "<style scoped>\n",
       "    .dataframe tbody tr th:only-of-type {\n",
       "        vertical-align: middle;\n",
       "    }\n",
       "\n",
       "    .dataframe tbody tr th {\n",
       "        vertical-align: top;\n",
       "    }\n",
       "\n",
       "    .dataframe thead th {\n",
       "        text-align: right;\n",
       "    }\n",
       "</style>\n",
       "<table border=\"1\" class=\"dataframe\">\n",
       "  <thead>\n",
       "    <tr style=\"text-align: right;\">\n",
       "      <th></th>\n",
       "      <th>longitude</th>\n",
       "      <th>latitude</th>\n",
       "      <th>housing_median_age</th>\n",
       "      <th>total_rooms</th>\n",
       "      <th>total_bedrooms</th>\n",
       "      <th>population</th>\n",
       "      <th>households</th>\n",
       "      <th>median_income</th>\n",
       "      <th>ocean_proximity</th>\n",
       "      <th>median_house_value</th>\n",
       "    </tr>\n",
       "  </thead>\n",
       "  <tbody>\n",
       "    <tr>\n",
       "      <th>11767</th>\n",
       "      <td>-121.28</td>\n",
       "      <td>38.74</td>\n",
       "      <td>33</td>\n",
       "      <td>4384</td>\n",
       "      <td>778.0</td>\n",
       "      <td>1775</td>\n",
       "      <td>789</td>\n",
       "      <td>4.0500</td>\n",
       "      <td>INLAND</td>\n",
       "      <td>134700</td>\n",
       "    </tr>\n",
       "    <tr>\n",
       "      <th>19774</th>\n",
       "      <td>-122.23</td>\n",
       "      <td>39.95</td>\n",
       "      <td>21</td>\n",
       "      <td>2087</td>\n",
       "      <td>382.0</td>\n",
       "      <td>888</td>\n",
       "      <td>361</td>\n",
       "      <td>2.2070</td>\n",
       "      <td>INLAND</td>\n",
       "      <td>86400</td>\n",
       "    </tr>\n",
       "    <tr>\n",
       "      <th>18846</th>\n",
       "      <td>-122.49</td>\n",
       "      <td>41.43</td>\n",
       "      <td>19</td>\n",
       "      <td>3689</td>\n",
       "      <td>644.0</td>\n",
       "      <td>1544</td>\n",
       "      <td>566</td>\n",
       "      <td>3.1250</td>\n",
       "      <td>INLAND</td>\n",
       "      <td>76100</td>\n",
       "    </tr>\n",
       "    <tr>\n",
       "      <th>10294</th>\n",
       "      <td>-117.80</td>\n",
       "      <td>33.87</td>\n",
       "      <td>16</td>\n",
       "      <td>5954</td>\n",
       "      <td>1281.0</td>\n",
       "      <td>3107</td>\n",
       "      <td>1209</td>\n",
       "      <td>4.2566</td>\n",
       "      <td>&lt;1H OCEAN</td>\n",
       "      <td>206100</td>\n",
       "    </tr>\n",
       "    <tr>\n",
       "      <th>19726</th>\n",
       "      <td>-121.70</td>\n",
       "      <td>39.07</td>\n",
       "      <td>26</td>\n",
       "      <td>2668</td>\n",
       "      <td>510.0</td>\n",
       "      <td>1437</td>\n",
       "      <td>505</td>\n",
       "      <td>3.3125</td>\n",
       "      <td>INLAND</td>\n",
       "      <td>100000</td>\n",
       "    </tr>\n",
       "    <tr>\n",
       "      <th>16515</th>\n",
       "      <td>-121.22</td>\n",
       "      <td>37.80</td>\n",
       "      <td>37</td>\n",
       "      <td>1038</td>\n",
       "      <td>222.0</td>\n",
       "      <td>521</td>\n",
       "      <td>211</td>\n",
       "      <td>2.1250</td>\n",
       "      <td>INLAND</td>\n",
       "      <td>91900</td>\n",
       "    </tr>\n",
       "    <tr>\n",
       "      <th>7603</th>\n",
       "      <td>-118.24</td>\n",
       "      <td>33.88</td>\n",
       "      <td>37</td>\n",
       "      <td>1843</td>\n",
       "      <td>366.0</td>\n",
       "      <td>1207</td>\n",
       "      <td>351</td>\n",
       "      <td>2.4821</td>\n",
       "      <td>&lt;1H OCEAN</td>\n",
       "      <td>111000</td>\n",
       "    </tr>\n",
       "    <tr>\n",
       "      <th>18429</th>\n",
       "      <td>-121.86</td>\n",
       "      <td>37.26</td>\n",
       "      <td>16</td>\n",
       "      <td>2814</td>\n",
       "      <td>485.0</td>\n",
       "      <td>1305</td>\n",
       "      <td>465</td>\n",
       "      <td>5.5121</td>\n",
       "      <td>&lt;1H OCEAN</td>\n",
       "      <td>224100</td>\n",
       "    </tr>\n",
       "    <tr>\n",
       "      <th>12386</th>\n",
       "      <td>-116.39</td>\n",
       "      <td>33.69</td>\n",
       "      <td>10</td>\n",
       "      <td>11659</td>\n",
       "      <td>2007.0</td>\n",
       "      <td>2186</td>\n",
       "      <td>1083</td>\n",
       "      <td>6.9833</td>\n",
       "      <td>INLAND</td>\n",
       "      <td>238800</td>\n",
       "    </tr>\n",
       "    <tr>\n",
       "      <th>13689</th>\n",
       "      <td>-117.20</td>\n",
       "      <td>34.14</td>\n",
       "      <td>14</td>\n",
       "      <td>2647</td>\n",
       "      <td>524.0</td>\n",
       "      <td>989</td>\n",
       "      <td>479</td>\n",
       "      <td>3.1513</td>\n",
       "      <td>INLAND</td>\n",
       "      <td>160000</td>\n",
       "    </tr>\n",
       "  </tbody>\n",
       "</table>\n",
       "</div>"
      ],
      "text/plain": [
       "       longitude  latitude  housing_median_age  total_rooms  total_bedrooms  \\\n",
       "11767    -121.28     38.74                  33         4384           778.0   \n",
       "19774    -122.23     39.95                  21         2087           382.0   \n",
       "18846    -122.49     41.43                  19         3689           644.0   \n",
       "10294    -117.80     33.87                  16         5954          1281.0   \n",
       "19726    -121.70     39.07                  26         2668           510.0   \n",
       "16515    -121.22     37.80                  37         1038           222.0   \n",
       "7603     -118.24     33.88                  37         1843           366.0   \n",
       "18429    -121.86     37.26                  16         2814           485.0   \n",
       "12386    -116.39     33.69                  10        11659          2007.0   \n",
       "13689    -117.20     34.14                  14         2647           524.0   \n",
       "\n",
       "       population  households  median_income ocean_proximity  \\\n",
       "11767        1775         789         4.0500          INLAND   \n",
       "19774         888         361         2.2070          INLAND   \n",
       "18846        1544         566         3.1250          INLAND   \n",
       "10294        3107        1209         4.2566       <1H OCEAN   \n",
       "19726        1437         505         3.3125          INLAND   \n",
       "16515         521         211         2.1250          INLAND   \n",
       "7603         1207         351         2.4821       <1H OCEAN   \n",
       "18429        1305         465         5.5121       <1H OCEAN   \n",
       "12386        2186        1083         6.9833          INLAND   \n",
       "13689         989         479         3.1513          INLAND   \n",
       "\n",
       "       median_house_value  \n",
       "11767              134700  \n",
       "19774               86400  \n",
       "18846               76100  \n",
       "10294              206100  \n",
       "19726              100000  \n",
       "16515               91900  \n",
       "7603               111000  \n",
       "18429              224100  \n",
       "12386              238800  \n",
       "13689              160000  "
      ]
     },
     "execution_count": 16,
     "metadata": {},
     "output_type": "execute_result"
    }
   ],
   "source": [
    "# Load the data using read_excel method in pandas\n",
    "housing_dt = pd.pandas.read_excel(r'/Users/arvindatmuri/PythonProjects/California Housing Price Prediction/california_housing_dataset.xlsx')\n",
    "housing_dt.sample(10)"
   ]
  },
  {
   "cell_type": "code",
   "execution_count": 5,
   "id": "a5b86f7f-137a-44c2-9414-f2ed31761d20",
   "metadata": {},
   "outputs": [
    {
     "name": "stdout",
     "output_type": "stream",
     "text": [
      "Rows: 20640\n",
      "Columns: 10\n"
     ]
    }
   ],
   "source": [
    "# Dataset Description using shape method()\n",
    "print(\"Rows:\", housing_dt.shape[0])\n",
    "print(\"Columns:\", housing_dt.shape[1])"
   ]
  },
  {
   "cell_type": "markdown",
   "id": "fbb68d7c-7175-449a-8361-a6c45600e688",
   "metadata": {},
   "source": [
    "## Dataset Description :\n",
    "\n",
    "#### Dataset Size : 20640 rows x 10 columns"
   ]
  },
  {
   "cell_type": "code",
   "execution_count": 6,
   "id": "23e2e3df-ead9-4bfd-bf25-65511369cb85",
   "metadata": {},
   "outputs": [
    {
     "name": "stdout",
     "output_type": "stream",
     "text": [
      "<class 'pandas.core.frame.DataFrame'>\n",
      "RangeIndex: 20640 entries, 0 to 20639\n",
      "Data columns (total 10 columns):\n",
      " #   Column              Non-Null Count  Dtype  \n",
      "---  ------              --------------  -----  \n",
      " 0   longitude           20640 non-null  float64\n",
      " 1   latitude            20640 non-null  float64\n",
      " 2   housing_median_age  20640 non-null  int64  \n",
      " 3   total_rooms         20640 non-null  int64  \n",
      " 4   total_bedrooms      20433 non-null  float64\n",
      " 5   population          20640 non-null  int64  \n",
      " 6   households          20640 non-null  int64  \n",
      " 7   median_income       20640 non-null  float64\n",
      " 8   ocean_proximity     20640 non-null  object \n",
      " 9   median_house_value  20640 non-null  int64  \n",
      "dtypes: float64(4), int64(5), object(1)\n",
      "memory usage: 1.6+ MB\n"
     ]
    }
   ],
   "source": [
    "# Count and Column Data Type\n",
    "housing_dt.info()"
   ]
  },
  {
   "cell_type": "markdown",
   "id": "ca94976d-a95a-4392-abf1-38c570a908da",
   "metadata": {},
   "source": [
    "### Field\tDescription\n",
    "\n",
    "longitude\t(signed numeric - float) : Longitude value for the block in California, USA\n",
    "\n",
    "latitude\t(numeric - float) : Latitude value for the block in California, USA\n",
    "\n",
    "housing_median_age\t(numeric - int) : Median age of the house in the block\n",
    "\n",
    "total_rooms\t(numeric - int) : Count of the total number of rooms (excluding bedrooms) in all houses in the block\n",
    "\n",
    "total_bedrooms\t(numeric - float) : Count of the total number of bedrooms in all houses in the block\n",
    "\n",
    "population\t(numeric - int) : Count of the total number of population in the block\n",
    "\n",
    "households\t(numeric - int) : Count of the total number of households in the block\n",
    "\n",
    "median_income\t(numeric - float) : Median of the total household income of all the houses in the block\n",
    "\n",
    "ocean_proximity\t(numeric - categorical) : Type of the landscape of the block [ Unique Values : 'NEAR BAY', '<1H OCEAN', 'INLAND', 'NEAR OCEAN', 'ISLAND'  ]\n",
    "\n",
    "median_house_value\t(numeric - int) : Median of the household prices of all the houses in the block\n",
    " "
   ]
  },
  {
   "cell_type": "code",
   "execution_count": 7,
   "id": "e8ee7d0b-914d-4d62-abda-6cdafcad90c8",
   "metadata": {},
   "outputs": [
    {
     "data": {
      "text/html": [
       "<div>\n",
       "<style scoped>\n",
       "    .dataframe tbody tr th:only-of-type {\n",
       "        vertical-align: middle;\n",
       "    }\n",
       "\n",
       "    .dataframe tbody tr th {\n",
       "        vertical-align: top;\n",
       "    }\n",
       "\n",
       "    .dataframe thead th {\n",
       "        text-align: right;\n",
       "    }\n",
       "</style>\n",
       "<table border=\"1\" class=\"dataframe\">\n",
       "  <thead>\n",
       "    <tr style=\"text-align: right;\">\n",
       "      <th></th>\n",
       "      <th>longitude</th>\n",
       "      <th>latitude</th>\n",
       "      <th>housing_median_age</th>\n",
       "      <th>total_rooms</th>\n",
       "      <th>total_bedrooms</th>\n",
       "      <th>population</th>\n",
       "      <th>households</th>\n",
       "      <th>median_income</th>\n",
       "      <th>median_house_value</th>\n",
       "    </tr>\n",
       "  </thead>\n",
       "  <tbody>\n",
       "    <tr>\n",
       "      <th>count</th>\n",
       "      <td>20640.000000</td>\n",
       "      <td>20640.000000</td>\n",
       "      <td>20640.000000</td>\n",
       "      <td>20640.000000</td>\n",
       "      <td>20433.000000</td>\n",
       "      <td>20640.000000</td>\n",
       "      <td>20640.000000</td>\n",
       "      <td>20640.000000</td>\n",
       "      <td>20640.000000</td>\n",
       "    </tr>\n",
       "    <tr>\n",
       "      <th>mean</th>\n",
       "      <td>-119.569704</td>\n",
       "      <td>35.631861</td>\n",
       "      <td>28.639486</td>\n",
       "      <td>2635.763081</td>\n",
       "      <td>537.870553</td>\n",
       "      <td>1425.476744</td>\n",
       "      <td>499.539680</td>\n",
       "      <td>3.870671</td>\n",
       "      <td>206855.816909</td>\n",
       "    </tr>\n",
       "    <tr>\n",
       "      <th>std</th>\n",
       "      <td>2.003532</td>\n",
       "      <td>2.135952</td>\n",
       "      <td>12.585558</td>\n",
       "      <td>2181.615252</td>\n",
       "      <td>421.385070</td>\n",
       "      <td>1132.462122</td>\n",
       "      <td>382.329753</td>\n",
       "      <td>1.899822</td>\n",
       "      <td>115395.615874</td>\n",
       "    </tr>\n",
       "    <tr>\n",
       "      <th>min</th>\n",
       "      <td>-124.350000</td>\n",
       "      <td>32.540000</td>\n",
       "      <td>1.000000</td>\n",
       "      <td>2.000000</td>\n",
       "      <td>1.000000</td>\n",
       "      <td>3.000000</td>\n",
       "      <td>1.000000</td>\n",
       "      <td>0.499900</td>\n",
       "      <td>14999.000000</td>\n",
       "    </tr>\n",
       "    <tr>\n",
       "      <th>25%</th>\n",
       "      <td>-121.800000</td>\n",
       "      <td>33.930000</td>\n",
       "      <td>18.000000</td>\n",
       "      <td>1447.750000</td>\n",
       "      <td>296.000000</td>\n",
       "      <td>787.000000</td>\n",
       "      <td>280.000000</td>\n",
       "      <td>2.563400</td>\n",
       "      <td>119600.000000</td>\n",
       "    </tr>\n",
       "    <tr>\n",
       "      <th>50%</th>\n",
       "      <td>-118.490000</td>\n",
       "      <td>34.260000</td>\n",
       "      <td>29.000000</td>\n",
       "      <td>2127.000000</td>\n",
       "      <td>435.000000</td>\n",
       "      <td>1166.000000</td>\n",
       "      <td>409.000000</td>\n",
       "      <td>3.534800</td>\n",
       "      <td>179700.000000</td>\n",
       "    </tr>\n",
       "    <tr>\n",
       "      <th>75%</th>\n",
       "      <td>-118.010000</td>\n",
       "      <td>37.710000</td>\n",
       "      <td>37.000000</td>\n",
       "      <td>3148.000000</td>\n",
       "      <td>647.000000</td>\n",
       "      <td>1725.000000</td>\n",
       "      <td>605.000000</td>\n",
       "      <td>4.743250</td>\n",
       "      <td>264725.000000</td>\n",
       "    </tr>\n",
       "    <tr>\n",
       "      <th>max</th>\n",
       "      <td>-114.310000</td>\n",
       "      <td>41.950000</td>\n",
       "      <td>52.000000</td>\n",
       "      <td>39320.000000</td>\n",
       "      <td>6445.000000</td>\n",
       "      <td>35682.000000</td>\n",
       "      <td>6082.000000</td>\n",
       "      <td>15.000100</td>\n",
       "      <td>500001.000000</td>\n",
       "    </tr>\n",
       "  </tbody>\n",
       "</table>\n",
       "</div>"
      ],
      "text/plain": [
       "          longitude      latitude  housing_median_age   total_rooms  \\\n",
       "count  20640.000000  20640.000000        20640.000000  20640.000000   \n",
       "mean    -119.569704     35.631861           28.639486   2635.763081   \n",
       "std        2.003532      2.135952           12.585558   2181.615252   \n",
       "min     -124.350000     32.540000            1.000000      2.000000   \n",
       "25%     -121.800000     33.930000           18.000000   1447.750000   \n",
       "50%     -118.490000     34.260000           29.000000   2127.000000   \n",
       "75%     -118.010000     37.710000           37.000000   3148.000000   \n",
       "max     -114.310000     41.950000           52.000000  39320.000000   \n",
       "\n",
       "       total_bedrooms    population    households  median_income  \\\n",
       "count    20433.000000  20640.000000  20640.000000   20640.000000   \n",
       "mean       537.870553   1425.476744    499.539680       3.870671   \n",
       "std        421.385070   1132.462122    382.329753       1.899822   \n",
       "min          1.000000      3.000000      1.000000       0.499900   \n",
       "25%        296.000000    787.000000    280.000000       2.563400   \n",
       "50%        435.000000   1166.000000    409.000000       3.534800   \n",
       "75%        647.000000   1725.000000    605.000000       4.743250   \n",
       "max       6445.000000  35682.000000   6082.000000      15.000100   \n",
       "\n",
       "       median_house_value  \n",
       "count        20640.000000  \n",
       "mean        206855.816909  \n",
       "std         115395.615874  \n",
       "min          14999.000000  \n",
       "25%         119600.000000  \n",
       "50%         179700.000000  \n",
       "75%         264725.000000  \n",
       "max         500001.000000  "
      ]
     },
     "execution_count": 7,
     "metadata": {},
     "output_type": "execute_result"
    }
   ],
   "source": [
    "# Calculate all the Measures of Central Tendency\n",
    "housing_dt.describe()"
   ]
  },
  {
   "cell_type": "markdown",
   "id": "8a7e9a45-140f-4e36-96b8-abd34f0898c0",
   "metadata": {
    "tags": []
   },
   "source": [
    "##### 2. Handle missing values :\n",
    "\n",
    "Fill the missing values with the mean of the respective column."
   ]
  },
  {
   "cell_type": "code",
   "execution_count": 8,
   "id": "9be69f69-87c4-499f-9d01-d95a985e4f28",
   "metadata": {},
   "outputs": [
    {
     "data": {
      "text/plain": [
       "longitude               0\n",
       "latitude                0\n",
       "housing_median_age      0\n",
       "total_rooms             0\n",
       "total_bedrooms        207\n",
       "population              0\n",
       "households              0\n",
       "median_income           0\n",
       "ocean_proximity         0\n",
       "median_house_value      0\n",
       "dtype: int64"
      ]
     },
     "execution_count": 8,
     "metadata": {},
     "output_type": "execute_result"
    }
   ],
   "source": [
    "housing_dt.isnull().sum()"
   ]
  },
  {
   "cell_type": "code",
   "execution_count": 9,
   "id": "a9282973-b4ce-4891-bf89-de83314b250d",
   "metadata": {},
   "outputs": [],
   "source": [
    "# Calculate all the Measures of Central Tendency(Mean, Median and Mode) for Total Bedrooms\n",
    "mean_total_bedrooms = housing_dt['total_bedrooms'].mean()\n",
    "median_total_bedrooms = housing_dt['total_bedrooms'].median()\n",
    "mode_total_bedrooms = housing_dt['total_bedrooms'].mode()"
   ]
  },
  {
   "cell_type": "code",
   "execution_count": 13,
   "id": "7a2de829-ec4e-4af5-9c04-09dec5ea8d4b",
   "metadata": {},
   "outputs": [
    {
     "name": "stdout",
     "output_type": "stream",
     "text": [
      "Mean: 537.8705525375618\n",
      "Median:  435.0\n",
      "Null Values:  0\n"
     ]
    }
   ],
   "source": [
    "print(\"Mean:\", mean_total_bedrooms)\n",
    "print(\"Median: \", median_total_bedrooms)\n",
    "# print(\"Mode:\", mode_total_bedrooms)\n",
    "print(\"Null Values: \", housing_dt['total_bedrooms'].isnull().sum())"
   ]
  },
  {
   "cell_type": "markdown",
   "id": "c393c8f3-9ceb-40fe-8032-a675cab520aa",
   "metadata": {},
   "source": [
    "##### Let's stick to Mean in this case, to replace the NA/Null values as per the task"
   ]
  },
  {
   "cell_type": "code",
   "execution_count": 14,
   "id": "88d339d6-22b0-43a9-b7b2-1c46da848b88",
   "metadata": {},
   "outputs": [],
   "source": [
    "# Filling Mean Values with Mean calculated above\n",
    "housing_dt['total_bedrooms'].fillna(value = mean_total_bedrooms, inplace=True)"
   ]
  },
  {
   "cell_type": "code",
   "execution_count": 15,
   "id": "43e6239b-9b27-42a5-b1e1-40268659b587",
   "metadata": {},
   "outputs": [
    {
     "data": {
      "text/plain": [
       "longitude             0\n",
       "latitude              0\n",
       "housing_median_age    0\n",
       "total_rooms           0\n",
       "total_bedrooms        0\n",
       "population            0\n",
       "households            0\n",
       "median_income         0\n",
       "ocean_proximity       0\n",
       "median_house_value    0\n",
       "dtype: int64"
      ]
     },
     "execution_count": 15,
     "metadata": {},
     "output_type": "execute_result"
    }
   ],
   "source": [
    "housing_dt.isnull().sum()"
   ]
  },
  {
   "cell_type": "markdown",
   "id": "5beceb9b-df95-4cff-ac02-f4fc88c139ce",
   "metadata": {},
   "source": [
    "##### Our Second Task is also completed Here, We have filled all the Null values with its Mean"
   ]
  },
  {
   "cell_type": "markdown",
   "id": "bd516afb-ad92-4b9e-ab25-af699cb12d9c",
   "metadata": {},
   "source": [
    "##### 3. Encode categorical data :\n",
    "\n",
    "Convert categorical column in the dataset to numerical data.\n",
    "\n",
    "\n"
   ]
  },
  {
   "cell_type": "markdown",
   "id": "1a1a3845-71aa-4482-a980-3264bc5429ad",
   "metadata": {},
   "source": [
    "Looking at the data, all the columns are numerical except to ocean_proximity Column. So lets convert the Categorical Data Column into Numerical Data."
   ]
  },
  {
   "cell_type": "code",
   "execution_count": 31,
   "id": "0791dab7-76b7-4b22-9706-db9a8ce33442",
   "metadata": {},
   "outputs": [
    {
     "data": {
      "text/plain": [
       "20630    1\n",
       "20631    1\n",
       "20632    1\n",
       "20633    1\n",
       "20634    1\n",
       "20635    1\n",
       "20636    1\n",
       "20637    1\n",
       "20638    1\n",
       "20639    1\n",
       "Name: ocean_proximity, dtype: int64"
      ]
     },
     "execution_count": 31,
     "metadata": {},
     "output_type": "execute_result"
    }
   ],
   "source": [
    "label_encoder = LabelEncoder()\n",
    "housing_dt['ocean_proximity'] = label_encoder.fit_transform(housing_dt['ocean_proximity'])\n",
    "housing_dt['ocean_proximity'].tail(10)"
   ]
  },
  {
   "cell_type": "markdown",
   "id": "9935e90b-fea6-46be-81c9-0aa05f0042fa",
   "metadata": {},
   "source": [
    "##### 4. Split the dataset : \n",
    "\n",
    "Split the data into 80% training dataset and 20% test dataset.\n",
    "\n"
   ]
  },
  {
   "cell_type": "code",
   "execution_count": null,
   "id": "3e8dae24-fedb-46f8-9971-1ea6f678b924",
   "metadata": {},
   "outputs": [],
   "source": []
  },
  {
   "cell_type": "markdown",
   "id": "21bad6f8-f2db-4f9d-9eb8-d64b76329e4d",
   "metadata": {},
   "source": [
    "##### 5. Standardize data :\n",
    "\n",
    "Standardize training and test datasets."
   ]
  },
  {
   "cell_type": "code",
   "execution_count": null,
   "id": "4c5009d1-a768-4e64-a123-642b9df03a18",
   "metadata": {},
   "outputs": [],
   "source": []
  },
  {
   "cell_type": "markdown",
   "id": "90b80984-ec21-4657-868b-65c633e8d820",
   "metadata": {},
   "source": [
    "##### 6. Perform Linear Regression : \n",
    "\n",
    "Perform Linear Regression on training data.\n",
    "Predict output for test dataset using the fitted model.\n",
    "Print root mean squared error (RMSE) from Linear Regression.\n",
    "\n",
    "[ HINT: Import mean_squared_error from sklearn.metrics ]"
   ]
  },
  {
   "cell_type": "code",
   "execution_count": null,
   "id": "90af27af-7b6e-4296-afcc-042e1672d69a",
   "metadata": {},
   "outputs": [],
   "source": []
  },
  {
   "cell_type": "markdown",
   "id": "3e985312-f920-4e4b-9e4e-1105c322ebe9",
   "metadata": {},
   "source": [
    "##### 7. Bonus exercise: Perform Linear Regression with one independent variable :\n",
    "\n",
    "Extract just the median_income column from the independent variables (from X_train and X_test).\n",
    "Perform Linear Regression to predict housing values based on median_income.\n",
    "Predict output for test dataset using the fitted model.\n",
    "Plot the fitted model for training data as well as for test data to check if the fitted model satisfies the test data."
   ]
  },
  {
   "cell_type": "code",
   "execution_count": null,
   "id": "aec6eb99-8bfb-44c6-a59b-49573b6a0aad",
   "metadata": {},
   "outputs": [],
   "source": []
  }
 ],
 "metadata": {
  "kernelspec": {
   "display_name": "Python 3",
   "language": "python",
   "name": "python3"
  },
  "language_info": {
   "codemirror_mode": {
    "name": "ipython",
    "version": 3
   },
   "file_extension": ".py",
   "mimetype": "text/x-python",
   "name": "python",
   "nbconvert_exporter": "python",
   "pygments_lexer": "ipython3",
   "version": "3.8.8"
  }
 },
 "nbformat": 4,
 "nbformat_minor": 5
}
