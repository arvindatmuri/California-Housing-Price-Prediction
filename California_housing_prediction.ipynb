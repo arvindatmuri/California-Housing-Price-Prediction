{
 "cells": [
  {
   "cell_type": "markdown",
   "id": "3760629b-0deb-4652-8e59-f71d0bd9dcdb",
   "metadata": {},
   "source": [
    "# California Housing Price Prediction : \n",
    " \n",
    "## DESCRIPTION\n",
    "\n",
    "### Background of Problem Statement :\n",
    "\n",
    "The US Census Bureau has published California Census Data which has 10 types of metrics such as the population, median income, median housing price, and so on for each block group in California. The dataset also serves as an input for project scoping and tries to specify the functional and nonfunctional requirements for it."
   ]
  },
  {
   "cell_type": "markdown",
   "id": "dcb5136d-13c9-4a65-8a2c-acffd91e2187",
   "metadata": {},
   "source": [
    "### Problem Objective :\n",
    "\n",
    "The project aims at building a model of housing prices to predict median house values in California using the provided dataset. This model should learn from the data and be able to predict the median housing price in any district, given all the other metrics.\n",
    "\n",
    "Districts or block groups are the smallest geographical units for which the US Census Bureau\n",
    "publishes sample data (a block group typically has a population of 600 to 3,000 people). There are 20,640 districts in the project dataset."
   ]
  },
  {
   "cell_type": "markdown",
   "id": "09ef2952-0de2-4892-ae01-25c9dc485e57",
   "metadata": {},
   "source": [
    "### Domain: Finance and Housing\n",
    "\n",
    "#### Analysis Tasks to be performed:\n",
    "\n",
    "1. Build a model of housing prices to predict median house values in California using the provided dataset.\n",
    "\n",
    "2. Train the model to learn from the data to predict the median housing price in any district, given all the other metrics.\n",
    "\n",
    "3. Predict housing prices based on median_income and plot the regression chart for it.\n",
    "\n",
    "\n"
   ]
  },
  {
   "cell_type": "markdown",
   "id": "cee1b6b3-7508-424f-8d9e-28bcb3cf16d4",
   "metadata": {},
   "source": [
    "##### 1. Load the data :\n",
    "\n",
    "Read the “housing.csv” file from the folder into the program.\n",
    "Print first few rows of this data.\n",
    "Extract input (X) and output (Y) data from the dataset.\n",
    "\n",
    "##### 2. Handle missing values :\n",
    "\n",
    "Fill the missing values with the mean of the respective column.\n",
    "\n",
    "##### 3. Encode categorical data :\n",
    "\n",
    "Convert categorical column in the dataset to numerical data.\n",
    "\n",
    "##### 4. Split the dataset : \n",
    "\n",
    "Split the data into 80% training dataset and 20% test dataset.\n",
    "\n",
    "##### 5. Standardize data :\n",
    "\n",
    "Standardize training and test datasets.\n",
    "\n",
    "##### 6. Perform Linear Regression : \n",
    "\n",
    "Perform Linear Regression on training data.\n",
    "Predict output for test dataset using the fitted model.\n",
    "Print root mean squared error (RMSE) from Linear Regression.\n",
    "\n",
    "[ HINT: Import mean_squared_error from sklearn.metrics ]\n",
    "\n",
    "##### 7. Bonus exercise: Perform Linear Regression with one independent variable :\n",
    "\n",
    "Extract just the median_income column from the independent variables (from X_train and X_test).\n",
    "Perform Linear Regression to predict housing values based on median_income.\n",
    "Predict output for test dataset using the fitted model.\n",
    "Plot the fitted model for training data as well as for test data to check if the fitted model satisfies the test data."
   ]
  },
  {
   "cell_type": "markdown",
   "id": "93ba5091-e769-4f66-b23a-7272cbf50ff0",
   "metadata": {},
   "source": []
  },
  {
   "cell_type": "markdown",
   "id": "ca94976d-a95a-4392-abf1-38c570a908da",
   "metadata": {},
   "source": [
    "# Dataset Description :\n",
    "\n",
    "#### Dataset Size : 20640 rows x 10 columns\n",
    "\n",
    "## Field\tDescription\n",
    "\n",
    "longitude\t(signed numeric - float) : Longitude value for the block in California, USA\n",
    "\n",
    "latitude\t(numeric - float ) : Latitude value for the block in California, USA\n",
    "\n",
    "housing_median_age\t(numeric - int ) : Median age of the house in the block\n",
    "\n",
    "total_rooms\t(numeric - int ) : Count of the total number of rooms (excluding bedrooms) in all houses in the block\n",
    "\n",
    "total_bedrooms\t(numeric - float ) : Count of the total number of bedrooms in all houses in the block\n",
    "\n",
    "population\t(numeric - int ) : Count of the total number of population in the block\n",
    "\n",
    "households\t(numeric - int ) : Count of the total number of households in the block\n",
    "\n",
    "median_income\t(numeric - float ) : Median of the total household income of all the houses in the block\n",
    "\n",
    "ocean_proximity\t(numeric - categorical ) : Type of the landscape of the block [ Unique Values : 'NEAR BAY', '<1H OCEAN', 'INLAND', 'NEAR OCEAN', 'ISLAND'  ]\n",
    "\n",
    "median_house_value\t(numeric - int ) : Median of the household prices of all the houses in the block\n",
    " "
   ]
  },
  {
   "cell_type": "code",
   "execution_count": null,
   "id": "66c3d2b1-60d7-4567-a5fd-aa80913d1b11",
   "metadata": {},
   "outputs": [],
   "source": []
  }
 ],
 "metadata": {
  "kernelspec": {
   "display_name": "Python 3",
   "language": "python",
   "name": "python3"
  },
  "language_info": {
   "codemirror_mode": {
    "name": "ipython",
    "version": 3
   },
   "file_extension": ".py",
   "mimetype": "text/x-python",
   "name": "python",
   "nbconvert_exporter": "python",
   "pygments_lexer": "ipython3",
   "version": "3.8.8"
  }
 },
 "nbformat": 4,
 "nbformat_minor": 5
}
